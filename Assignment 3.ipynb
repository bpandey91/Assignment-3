{
 "cells": [
  {
   "cell_type": "code",
   "execution_count": null,
   "id": "e8abe702",
   "metadata": {},
   "outputs": [],
   "source": [
    "#assgnment3\n",
    "#1. Why are functions advantageous to have in your programs?\n",
    "#answer:\n",
    "#to reduce code lines.\n",
    "#to reuse the code multiple time.\n",
    "#at the time of rebuild easy to understand"
   ]
  },
  {
   "cell_type": "code",
   "execution_count": null,
   "id": "1cd8dcb2",
   "metadata": {},
   "outputs": [],
   "source": [
    "#2. When does the code in a function run: when it's specified or when it's called?\n",
    "#Answer\n",
    "# 1st we make number of code under fucntion.\n",
    "def FunctionName( LIST OF PARAMETERS ):\n",
    "    STATEMENTS\n",
    "    .\n",
    "    .\n",
    "    .\n",
    "#then we call our above function.\n",
    "\n",
    "FunctionName(LIST OF PARAMETERS)"
   ]
  },
  {
   "cell_type": "code",
   "execution_count": null,
   "id": "ea3b0043",
   "metadata": {},
   "outputs": [],
   "source": [
    "#3. What statement creates a function?\n",
    "#answer\n",
    "def FunctionName( LIST OF PARAMETERS ):\n",
    "    STATEMENTS 1\n",
    "    STATEMENTS 2\n",
    "    .\n",
    "    ."
   ]
  },
  {
   "cell_type": "code",
   "execution_count": null,
   "id": "357aea8c",
   "metadata": {},
   "outputs": [],
   "source": [
    "#4. What is the difference between a function and a function call?\n",
    "#answer\n",
    "#in fucntion we just making code under function and in fucntion cal we providing input and parameters value to execute the fucntion."
   ]
  },
  {
   "cell_type": "code",
   "execution_count": null,
   "id": "789ee7e5",
   "metadata": {},
   "outputs": [],
   "source": [
    "#5. How many global scopes are there in a Python program? How many local scopes?\n",
    "#Answer\n",
    "#When you use an unqualified name inside a function, Python searches three scopes—the local (L), then the global (G), and then the built-in (B)—and stops at the first place the name is found.\n"
   ]
  },
  {
   "cell_type": "code",
   "execution_count": null,
   "id": "9724906f",
   "metadata": {},
   "outputs": [],
   "source": [
    "#6. What happens to variables in a local scope when the function call returns?\n",
    "#Answer\n",
    "A local variable retains its value until the next time the function is called\n",
    "A local variable becomes undefined after the function call completes\n",
    "The local variable can be used outside the function any time after the function call completes."
   ]
  },
  {
   "cell_type": "code",
   "execution_count": null,
   "id": "7d103d8b",
   "metadata": {},
   "outputs": [],
   "source": [
    "#7. What is the concept of a return value? Is it possible to have a return value in an expression?\n",
    "#Answer\n",
    "A return is a value that a function returns to the calling script or function when it completes its task.\n",
    "A return value can be any one of the four variable types: handle, integer, object, or string.\n",
    "The type of value your function returns depends largely on the task it performs.\n",
    "\n",
    "The Python return statement is a special statement that you can use inside a function"
   ]
  },
  {
   "cell_type": "code",
   "execution_count": null,
   "id": "f89e8b85",
   "metadata": {},
   "outputs": [],
   "source": [
    "#8. If a function does not have a return statement, what is the return value of a call to that function?\n",
    "#answer\n",
    "\n",
    "\"\"\"If no return statement appears in a function definition, control automatically returns to the calling function after the last statement of the called function is executed.\n",
    "In this case, the return value of the called function is undefined\"\"\""
   ]
  },
  {
   "cell_type": "code",
   "execution_count": null,
   "id": "fb2abf35",
   "metadata": {},
   "outputs": [],
   "source": [
    "#9. How do you make a function variable refer to the global variable?\n",
    "#Answer\n",
    "\"\"\"Normally, when you create a variable inside a function, that variable is local, and can only be used inside that function.\n",
    "To create a global variable inside a function, you can use the global keyword.\"\"\"\n",
    "\n",
    "example\n",
    "def myfunc():\n",
    "  global x\n",
    "  x = \"ineuran\"\n",
    "\n",
    "myfunc()\n",
    "\n",
    "print(\"bipin and \" + x)\n"
   ]
  },
  {
   "cell_type": "code",
   "execution_count": null,
   "id": "a56c790d",
   "metadata": {},
   "outputs": [],
   "source": [
    "#10. What is the data type of None?\n",
    "#Answer\n",
    "NoneType"
   ]
  },
  {
   "cell_type": "code",
   "execution_count": null,
   "id": "dfb61a88",
   "metadata": {},
   "outputs": [],
   "source": [
    "#11. What does the sentence import areallyourpetsnamederic do?\n",
    "#asnwer\n",
    "That import statement imports a module named areallyourpetsnamederic."
   ]
  },
  {
   "cell_type": "code",
   "execution_count": null,
   "id": "63de5d63",
   "metadata": {},
   "outputs": [],
   "source": [
    "#12. If you had a bacon() feature in a spam module, what would you call it after importing spam?\n",
    "#Answer\n",
    "spam.bacon()"
   ]
  },
  {
   "cell_type": "code",
   "execution_count": null,
   "id": "509a66b2",
   "metadata": {},
   "outputs": [],
   "source": [
    "#13. What can you do to save a programme from crashing if it encounters an error?\n",
    "#Answer\n",
    "When it encounters an error, the control is passed to the except block, skipping the code in between.\n",
    "As seen in the above code, we have moved our code inside a try and except statement.\n",
    "Try running the program and it should throw an error message instead of crashing the program"
   ]
  },
  {
   "cell_type": "code",
   "execution_count": null,
   "id": "7320d41b",
   "metadata": {},
   "outputs": [],
   "source": [
    "#14. What is the purpose of the try clause? What is the purpose of the except clause?\n",
    "#Answer\n",
    "In the try clause, all statements are executed until an exception is encountered.\n",
    "except is used to catch and handle the exception(s) that are encountered in the try clause.\n",
    "else lets you code sections that should run only when no exceptions are encountered in the try clause."
   ]
  }
 ],
 "metadata": {
  "kernelspec": {
   "display_name": "Python 3 (ipykernel)",
   "language": "python",
   "name": "python3"
  },
  "language_info": {
   "codemirror_mode": {
    "name": "ipython",
    "version": 3
   },
   "file_extension": ".py",
   "mimetype": "text/x-python",
   "name": "python",
   "nbconvert_exporter": "python",
   "pygments_lexer": "ipython3",
   "version": "3.9.7"
  }
 },
 "nbformat": 4,
 "nbformat_minor": 5
}
